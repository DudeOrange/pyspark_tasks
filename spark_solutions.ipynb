{
 "cells": [
  {
   "cell_type": "code",
   "execution_count": 40,
   "metadata": {},
   "outputs": [],
   "source": [
    "import findspark\n",
    "findspark.init('C:/Spark')\n",
    "\n",
    "from pyspark.sql import SparkSession\n",
    "from pyspark.sql import functions as f\n",
    "from pyspark.sql.window import Window as w\n",
    "from pyspark.sql import DataFrame\n",
    "\n",
    "from functools import reduce"
   ]
  },
  {
   "cell_type": "code",
   "execution_count": 2,
   "metadata": {},
   "outputs": [],
   "source": [
    "# для подключения к БД требуется скачать драйвер postgresql и указать его расположение в параметре config\n",
    "spark = SparkSession.builder \\\n",
    "    .config('spark.driver.extraClassPath', r'C:\\Users\\Andre\\sql_ex\\postgresql-42.3.4.jar') \\\n",
    "    .getOrCreate()"
   ]
  },
  {
   "cell_type": "code",
   "execution_count": 3,
   "metadata": {},
   "outputs": [],
   "source": [
    "url = 'jdbc:postgresql://localhost:5432/sql_ex_data'\n",
    "properties = {'user':'user', 'password': 'password'}"
   ]
  },
  {
   "cell_type": "markdown",
   "metadata": {},
   "source": [
    "1. Найдите номер модели, скорость и размер жесткого диска для всех ПК стоимостью менее 500 дол. Вывести: model, speed и hd"
   ]
  },
  {
   "cell_type": "code",
   "execution_count": 37,
   "metadata": {},
   "outputs": [
    {
     "name": "stdout",
     "output_type": "stream",
     "text": [
      "+-----+-----+----+\n",
      "|model|speed|  hd|\n",
      "+-----+-----+----+\n",
      "| 1232|  500|10.0|\n",
      "| 1232|  450| 8.0|\n",
      "| 1232|  450|10.0|\n",
      "| 1260|  500|10.0|\n",
      "+-----+-----+----+\n",
      "\n"
     ]
    }
   ],
   "source": [
    "df_pc = spark.read.jdbc(url=url, table='PC', properties=properties)\n",
    "\n",
    "df_pc.select(f.col('model'), f.col('speed'), f.col('hd')).filter(f.col('price') < 500).show()"
   ]
  },
  {
   "cell_type": "markdown",
   "metadata": {},
   "source": [
    "2. Найдите производителей принтеров. Вывести: maker"
   ]
  },
  {
   "cell_type": "code",
   "execution_count": 5,
   "metadata": {},
   "outputs": [
    {
     "name": "stdout",
     "output_type": "stream",
     "text": [
      "+-----+\n",
      "|maker|\n",
      "+-----+\n",
      "|    E|\n",
      "|    D|\n",
      "|    A|\n",
      "+-----+\n",
      "\n"
     ]
    }
   ],
   "source": [
    "df_product = spark.read.jdbc(url=url, table='product', properties=properties)\n",
    "\n",
    "df_product.select(f.col('maker')).filter(f.col('type') == 'Printer').distinct().show()"
   ]
  },
  {
   "cell_type": "markdown",
   "metadata": {},
   "source": [
    "3. Найдите номер модели, объем памяти и размеры экранов ПК-блокнотов, цена которых превышает 1000 дол."
   ]
  },
  {
   "cell_type": "code",
   "execution_count": 6,
   "metadata": {},
   "outputs": [
    {
     "name": "stdout",
     "output_type": "stream",
     "text": [
      "+-----+---+------+\n",
      "|model|ram|screen|\n",
      "+-----+---+------+\n",
      "| 1750|128|    14|\n",
      "| 1298| 64|    15|\n",
      "| 1752|128|    14|\n",
      "+-----+---+------+\n",
      "\n"
     ]
    }
   ],
   "source": [
    "df_laptop = spark.read.jdbc(url=url, table='laptop', properties=properties)\n",
    "\n",
    "df_laptop.select(f.col('model'), f.col('ram'), f.col('screen')).filter(f.col('price') > 1000).show()"
   ]
  },
  {
   "cell_type": "markdown",
   "metadata": {},
   "source": [
    "4. Найдите все записи таблицы Printer для цветных принтеров."
   ]
  },
  {
   "cell_type": "code",
   "execution_count": 7,
   "metadata": {},
   "outputs": [
    {
     "name": "stdout",
     "output_type": "stream",
     "text": [
      "+----+-----+-----+----+------+\n",
      "|code|model|color|type| price|\n",
      "+----+-----+-----+----+------+\n",
      "|   2| 1433|    y| Jet|270.00|\n",
      "|   3| 1434|    y| Jet|290.00|\n",
      "+----+-----+-----+----+------+\n",
      "\n"
     ]
    }
   ],
   "source": [
    "df_printer = spark.read.jdbc(url=url, table='printer', properties=properties)\n",
    "\n",
    "df_printer.filter(f.col('color') == 'y').show()"
   ]
  },
  {
   "cell_type": "markdown",
   "metadata": {},
   "source": [
    "5. Найдите номер модели, скорость и размер жесткого диска ПК, имеющих 12x или 24x CD и цену менее 600 дол."
   ]
  },
  {
   "cell_type": "code",
   "execution_count": 8,
   "metadata": {},
   "outputs": [
    {
     "name": "stdout",
     "output_type": "stream",
     "text": [
      "+-----+-----+----+\n",
      "|model|speed|  hd|\n",
      "+-----+-----+----+\n",
      "| 1232|  500|10.0|\n",
      "| 1232|  450| 8.0|\n",
      "| 1232|  450|10.0|\n",
      "| 1260|  500|10.0|\n",
      "+-----+-----+----+\n",
      "\n"
     ]
    }
   ],
   "source": [
    "df_pc = spark.read.jdbc(url=url, table='PC', properties=properties)\n",
    "\n",
    "df_pc.select(f.col('model'), f.col('speed'), f.col('hd')).filter((f.col('price') < 600) & ((f.col('cd') == '12x') | (f.col('cd') == '24x'))).show()"
   ]
  },
  {
   "cell_type": "markdown",
   "metadata": {},
   "source": [
    "6. Для каждого производителя, выпускающего ПК-блокноты c объёмом жесткого диска не менее 10 Гбайт, найти скорости таких ПК-блокнотов. Вывод: производитель, скорость."
   ]
  },
  {
   "cell_type": "code",
   "execution_count": 17,
   "metadata": {},
   "outputs": [
    {
     "name": "stdout",
     "output_type": "stream",
     "text": [
      "+-----+-----+\n",
      "|maker|speed|\n",
      "+-----+-----+\n",
      "|    B|  750|\n",
      "|    A|  600|\n",
      "|    A|  750|\n",
      "|    A|  450|\n",
      "+-----+-----+\n",
      "\n"
     ]
    }
   ],
   "source": [
    "df_product = spark.read.jdbc(url=url, table='product', properties=properties)\n",
    "df_laptop = spark.read.jdbc(url=url, table='laptop', properties=properties)\n",
    "\n",
    "df_product.join(df_laptop, df_product['model'] == df_laptop['model'], how='inner').select(f.col('maker'), f.col('speed')).filter(f.col('hd') >= 10).distinct().show()"
   ]
  },
  {
   "cell_type": "markdown",
   "metadata": {},
   "source": [
    "7. Найдите номера моделей и цены всех имеющихся в продаже продуктов (любого типа) производителя B (латинская буква)."
   ]
  },
  {
   "cell_type": "code",
   "execution_count": 46,
   "metadata": {},
   "outputs": [
    {
     "name": "stdout",
     "output_type": "stream",
     "text": [
      "+-----+-------+\n",
      "|model|  price|\n",
      "+-----+-------+\n",
      "| 1750|1200.00|\n",
      "| 1121| 850.00|\n",
      "+-----+-------+\n",
      "\n"
     ]
    }
   ],
   "source": [
    "df_product = spark.read.jdbc(url=url, table='product', properties=properties)\n",
    "df_pc = spark.read.jdbc(url=url, table='PC', properties=properties)\n",
    "df_laptop = spark.read.jdbc(url=url, table='laptop', properties=properties)\n",
    "df_printer = spark.read.jdbc(url=url, table='printer', properties=properties)\n",
    "\n",
    "df_product_pc = df_product.join(df_pc, df_product['model'] == df_pc['model'], how='inner'). \\\n",
    "                select(df_product['model'], f.col('price')).filter(f.col('maker') == 'B')\n",
    "\n",
    "df_product_laptop = df_product.join(df_laptop, df_product['model'] == df_laptop['model'], how='inner'). \\\n",
    "                    select(df_product['model'], f.col('price')).filter(f.col('maker') == 'B')\n",
    "\n",
    "df_product_printer = df_product.join(df_printer, df_product['model'] == df_printer['model'], how='inner'). \\\n",
    "                    select(df_product['model'], f.col('price')).filter(f.col('maker') == 'B')\n",
    "\n",
    "#делаем объединение сразу по трем временным фреймам\n",
    "df = reduce(DataFrame.union, [df_product_pc, df_product_laptop, df_product_laptop])\n",
    "df.distinct().show()"
   ]
  },
  {
   "cell_type": "markdown",
   "metadata": {},
   "source": [
    "8. Найдите производителя, выпускающего ПК, но не ПК-блокноты."
   ]
  },
  {
   "cell_type": "code",
   "execution_count": 53,
   "metadata": {},
   "outputs": [
    {
     "name": "stdout",
     "output_type": "stream",
     "text": [
      "+-----+\n",
      "|maker|\n",
      "+-----+\n",
      "|    E|\n",
      "+-----+\n",
      "\n"
     ]
    }
   ],
   "source": [
    "df_product = spark.read.jdbc(url=url, table='product', properties=properties)\n",
    "\n",
    "df_product_pc = df_product.select(f.col('maker')).filter(f.col('type') == 'PC')\n",
    "df_product_laptop = df_product.select(f.col('maker')).filter(f.col('type') == 'Laptop')\n",
    "\n",
    "df_product_pc.exceptAll(df_product_laptop).distinct().show()"
   ]
  },
  {
   "cell_type": "markdown",
   "metadata": {},
   "source": [
    "9. Найдите производителей ПК с процессором не менее 450 Мгц. Вывести: Maker"
   ]
  },
  {
   "cell_type": "code",
   "execution_count": 57,
   "metadata": {},
   "outputs": [
    {
     "name": "stdout",
     "output_type": "stream",
     "text": [
      "+-----+\n",
      "|maker|\n",
      "+-----+\n",
      "|    E|\n",
      "|    B|\n",
      "|    A|\n",
      "+-----+\n",
      "\n"
     ]
    }
   ],
   "source": [
    "df_product = spark.read.jdbc(url=url, table='product', properties=properties)\n",
    "df_pc = spark.read.jdbc(url=url, table='PC', properties=properties)\n",
    "\n",
    "df_product.join(df_pc, df_product['model'] == df_pc['model'], how='inner').select(f.col('maker')).filter(f.col('speed') >= 450).distinct().show()"
   ]
  },
  {
   "cell_type": "markdown",
   "metadata": {},
   "source": [
    "10. Найдите модели принтеров, имеющих самую высокую цену. Вывести: model, price"
   ]
  },
  {
   "cell_type": "code",
   "execution_count": 70,
   "metadata": {},
   "outputs": [
    {
     "name": "stdout",
     "output_type": "stream",
     "text": [
      "+-----+------+\n",
      "|model| price|\n",
      "+-----+------+\n",
      "| 1276|400.00|\n",
      "| 1288|400.00|\n",
      "+-----+------+\n",
      "\n"
     ]
    }
   ],
   "source": [
    "df_printer = spark.read.jdbc(url=url, table='printer', properties=properties)\n",
    "\n",
    "max_price = df_printer.agg(f.max(df_printer['price'])).collect()\n",
    "\n",
    "df_printer.select(f.col('model'), f.col('price')).filter(f.col('price') == max_price[0][0]).show()"
   ]
  },
  {
   "cell_type": "markdown",
   "metadata": {},
   "source": [
    "11. Найдите среднюю скорость ПК."
   ]
  },
  {
   "cell_type": "code",
   "execution_count": 85,
   "metadata": {},
   "outputs": [
    {
     "name": "stdout",
     "output_type": "stream",
     "text": [
      "+---------+\n",
      "|avg_speed|\n",
      "+---------+\n",
      "|    608.0|\n",
      "+---------+\n",
      "\n"
     ]
    }
   ],
   "source": [
    "df_pc = spark.read.jdbc(url=url, table='PC', properties=properties)\n",
    "\n",
    "df_pc.agg(f.avg(df_pc['speed'])).select(f.round(f.col('avg(speed)'), 0).alias('avg_speed')).show()"
   ]
  },
  {
   "cell_type": "markdown",
   "metadata": {},
   "source": [
    "12. Найдите среднюю скорость ПК-блокнотов, цена которых превышает 1000 дол."
   ]
  },
  {
   "cell_type": "code",
   "execution_count": 88,
   "metadata": {},
   "outputs": [
    {
     "name": "stdout",
     "output_type": "stream",
     "text": [
      "+---------+\n",
      "|avg_speed|\n",
      "+---------+\n",
      "|    700.0|\n",
      "+---------+\n",
      "\n"
     ]
    }
   ],
   "source": [
    "df_laptop = spark.read.jdbc(url=url, table='laptop', properties=properties)\n",
    "\n",
    "df_laptop.filter(f.col('price') > 1000).agg(f.avg(df_laptop['speed']).alias('avg_speed')).show()"
   ]
  },
  {
   "cell_type": "markdown",
   "metadata": {},
   "source": [
    "13. Найдите среднюю скорость ПК, выпущенных производителем A."
   ]
  },
  {
   "cell_type": "code",
   "execution_count": 91,
   "metadata": {},
   "outputs": [
    {
     "name": "stdout",
     "output_type": "stream",
     "text": [
      "+---------+\n",
      "|avg_speed|\n",
      "+---------+\n",
      "|    606.0|\n",
      "+---------+\n",
      "\n"
     ]
    }
   ],
   "source": [
    "df_product = spark.read.jdbc(url=url, table='product', properties=properties)\n",
    "df_pc = spark.read.jdbc(url=url, table='PC', properties=properties)\n",
    "\n",
    "df_product_pc = df_product.join(df_pc, df_product['model'] == df_pc['model'], how='inner').filter(f.col('maker') == 'A')\n",
    "\n",
    "df_product_pc.agg(f.avg(f.col('speed'))).select(f.round(f.col('avg(speed)'), 0).alias('avg_speed')).show()"
   ]
  },
  {
   "cell_type": "markdown",
   "metadata": {},
   "source": [
    "14. Найдите класс, имя и страну для кораблей из таблицы Ships, имеющих не менее 10 орудий."
   ]
  },
  {
   "cell_type": "code",
   "execution_count": 94,
   "metadata": {},
   "outputs": [
    {
     "name": "stdout",
     "output_type": "stream",
     "text": [
      "+--------------+--------------+-------+\n",
      "|         class|          name|country|\n",
      "+--------------+--------------+-------+\n",
      "|North Carolina|North Carolina|    USA|\n",
      "|North Carolina|    Washington|    USA|\n",
      "|North Carolina|  South Dakota|    USA|\n",
      "|     Tennessee|    California|    USA|\n",
      "|     Tennessee|     Tennessee|    USA|\n",
      "+--------------+--------------+-------+\n",
      "\n"
     ]
    }
   ],
   "source": [
    "df_classes = spark.read.jdbc(url=url, table='classes', properties=properties)\n",
    "df_ships = spark.read.jdbc(url=url, table='ships', properties=properties)\n",
    "\n",
    "df_classes.join(df_ships, df_classes['class'] == df_ships['class'], how='inner').select(df_classes['class'], f.col('name'), f.col('country')). \\\n",
    "            filter(f.col('numGuns') > 10).show()"
   ]
  },
  {
   "cell_type": "markdown",
   "metadata": {},
   "source": [
    "15. Найдите размеры жестких дисков, совпадающих у двух и более PC. Вывести: HD"
   ]
  },
  {
   "cell_type": "code",
   "execution_count": 102,
   "metadata": {},
   "outputs": [
    {
     "name": "stdout",
     "output_type": "stream",
     "text": [
      "+----+\n",
      "|  hd|\n",
      "+----+\n",
      "| 5.0|\n",
      "| 8.0|\n",
      "|10.0|\n",
      "|14.0|\n",
      "|20.0|\n",
      "+----+\n",
      "\n"
     ]
    }
   ],
   "source": [
    "df_pc = spark.read.jdbc(url=url, table='PC', properties=properties)\n",
    "\n",
    "df_pc.groupBy(f.col('hd')).agg(f.count(f.col('hd')).alias('count_hd')).select(f.col('hd')).filter(f.col('count_hd') >= 2).orderBy(['hd']).show()"
   ]
  },
  {
   "cell_type": "markdown",
   "metadata": {},
   "source": [
    "16. Найдите пары моделей PC, имеющих одинаковые скорость и RAM. В результате каждая пара указывается только один раз, т.е. (i,j), но не (j,i), Порядок вывода: модель с большим номером, модель с меньшим номером, скорость и RAM."
   ]
  },
  {
   "cell_type": "code",
   "execution_count": 112,
   "metadata": {},
   "outputs": [
    {
     "name": "stdout",
     "output_type": "stream",
     "text": [
      "+-----+------+-----+---+\n",
      "|model|model2|speed|ram|\n",
      "+-----+------+-----+---+\n",
      "| 1233|  1232|  500| 64|\n",
      "| 1233|  1121|  750|128|\n",
      "| 1260|  1232|  500| 32|\n",
      "+-----+------+-----+---+\n",
      "\n"
     ]
    }
   ],
   "source": [
    "df_pc = spark.read.jdbc(url=url, table='PC', properties=properties)\n",
    "df_pc2 = df_pc.alias('df_pc2')\n",
    "df_pc2 = df_pc2.select(*(f.col(x).alias(x + '2') for x in df_pc2.columns))\n",
    "\n",
    "df_pc.join(df_pc2, (df_pc['speed'] == df_pc2['speed2']) & (df_pc['ram'] == df_pc2['ram2']), how='full'). \\\n",
    "        select(df_pc['model'], df_pc2['model2'], df_pc['speed'], df_pc['ram']).filter(df_pc['model'] > df_pc2['model2']).show()"
   ]
  },
  {
   "cell_type": "markdown",
   "metadata": {},
   "source": [
    "17. Найдите модели ПК-блокнотов, скорость которых меньше скорости каждого из ПК. Вывести: type, model, speed"
   ]
  },
  {
   "cell_type": "code",
   "execution_count": 117,
   "metadata": {},
   "outputs": [
    {
     "name": "stdout",
     "output_type": "stream",
     "text": [
      "+------+-----+-----+\n",
      "|  type|model|speed|\n",
      "+------+-----+-----+\n",
      "|Laptop| 1298|  350|\n",
      "+------+-----+-----+\n",
      "\n"
     ]
    }
   ],
   "source": [
    "df_product = spark.read.jdbc(url=url, table='product', properties=properties)\n",
    "df_pc = spark.read.jdbc(url=url, table='PC', properties=properties)\n",
    "df_laptop = spark.read.jdbc(url=url, table='laptop', properties=properties)\n",
    "\n",
    "min_speed = df_pc.agg(f.min(df_pc['speed'])).collect()[0][0]\n",
    "\n",
    "df_product.join(df_laptop, df_product['model'] == df_laptop['model'], how='inner').select(df_product['type'], df_laptop['model'], df_laptop['speed']). \\\n",
    "        filter(df_laptop['speed'] < min_speed).show()"
   ]
  },
  {
   "cell_type": "markdown",
   "metadata": {},
   "source": [
    "18. Найдите производителей самых дешевых цветных принтеров. Вывести: maker, price"
   ]
  },
  {
   "cell_type": "code",
   "execution_count": 126,
   "metadata": {},
   "outputs": [
    {
     "name": "stdout",
     "output_type": "stream",
     "text": [
      "+-----+------+\n",
      "|maker| price|\n",
      "+-----+------+\n",
      "|    D|270.00|\n",
      "+-----+------+\n",
      "\n"
     ]
    }
   ],
   "source": [
    "df_product = spark.read.jdbc(url=url, table='product', properties=properties)\n",
    "df_printer = spark.read.jdbc(url=url, table='printer', properties=properties)\n",
    "\n",
    "min_price = df_printer.filter(f.col('color') == 'y').agg(f.min(f.col('price'))).collect()[0][0]\n",
    "\n",
    "df_product.join(df_printer, df_product['model'] == df_printer['model'], how='inner').select(f.col('maker'), f.col('price')). \\\n",
    "        filter((df_printer['color'] == 'y') & (df_printer['price'] == min_price)).show()"
   ]
  },
  {
   "cell_type": "markdown",
   "metadata": {},
   "source": [
    "19. Для каждого производителя, имеющего модели в таблице Laptop, найдите средний размер экрана выпускаемых им ПК-блокнотов. Вывести: maker, средний размер экрана."
   ]
  },
  {
   "cell_type": "code",
   "execution_count": 127,
   "metadata": {},
   "outputs": [
    {
     "name": "stdout",
     "output_type": "stream",
     "text": [
      "+-----+----------+\n",
      "|maker|avg_screen|\n",
      "+-----+----------+\n",
      "|    B|      14.0|\n",
      "|    C|      12.0|\n",
      "|    A|      13.0|\n",
      "+-----+----------+\n",
      "\n"
     ]
    }
   ],
   "source": [
    "df_product = spark.read.jdbc(url=url, table='product', properties=properties)\n",
    "df_laptop = spark.read.jdbc(url=url, table='laptop', properties=properties)\n",
    "\n",
    "df_product.join(df_laptop, df_product['model'] == df_laptop['model'], how='inner').groupby(f.col('maker')).agg(f.avg(f.col('screen')).alias('avg_screen')). \\\n",
    "        select(f.col('maker'), f.col('avg_screen')).show()"
   ]
  },
  {
   "cell_type": "markdown",
   "metadata": {},
   "source": [
    "20. Найдите производителей, выпускающих по меньшей мере три различных модели ПК. Вывести: Maker, число моделей ПК."
   ]
  },
  {
   "cell_type": "code",
   "execution_count": 131,
   "metadata": {},
   "outputs": [
    {
     "name": "stdout",
     "output_type": "stream",
     "text": [
      "+----+-----------+\n",
      "|type|count_model|\n",
      "+----+-----------+\n",
      "|  PC|          3|\n",
      "+----+-----------+\n",
      "\n"
     ]
    }
   ],
   "source": [
    "df_product = spark.read.jdbc(url=url, table='product', properties=properties)\n",
    "\n",
    "df_product.groupBy(['maker', 'type']).agg(f.count(f.col('model')).alias('count_model')).filter((f.col('count_model') > 2) & (f.col('type') == 'PC')). \\\n",
    "        select(['type', 'count_model']).show()"
   ]
  },
  {
   "cell_type": "markdown",
   "metadata": {},
   "source": [
    "21. Найдите максимальную цену ПК, выпускаемых каждым производителем, у которого есть модели в таблице PC. Вывести: maker, максимальная цена."
   ]
  },
  {
   "cell_type": "code",
   "execution_count": 134,
   "metadata": {},
   "outputs": [
    {
     "name": "stdout",
     "output_type": "stream",
     "text": [
      "+-----+---------+\n",
      "|maker|max_price|\n",
      "+-----+---------+\n",
      "|    E|   350.00|\n",
      "|    B|   850.00|\n",
      "|    A|   980.00|\n",
      "+-----+---------+\n",
      "\n"
     ]
    }
   ],
   "source": [
    "df_product = spark.read.jdbc(url=url, table='product', properties=properties)\n",
    "df_pc = spark.read.jdbc(url=url, table='pc', properties=properties)\n",
    "\n",
    "df_product.join(df_pc, df_product['model'] == df_pc['model'], how='inner').groupby(f.col('maker')).agg(f.max(f.col('price')).alias('max_price')). \\\n",
    "        select(['maker', 'max_price']).show()"
   ]
  },
  {
   "cell_type": "markdown",
   "metadata": {},
   "source": [
    "22. Для каждого значения скорости ПК, превышающего 600 МГц, определите среднюю цену ПК с такой же скоростью. Вывести: speed, средняя цена."
   ]
  },
  {
   "cell_type": "code",
   "execution_count": null,
   "metadata": {},
   "outputs": [],
   "source": []
  },
  {
   "cell_type": "code",
   "execution_count": null,
   "metadata": {},
   "outputs": [],
   "source": []
  },
  {
   "cell_type": "code",
   "execution_count": null,
   "metadata": {},
   "outputs": [],
   "source": []
  },
  {
   "cell_type": "code",
   "execution_count": null,
   "metadata": {},
   "outputs": [],
   "source": []
  },
  {
   "cell_type": "code",
   "execution_count": null,
   "metadata": {},
   "outputs": [],
   "source": []
  },
  {
   "cell_type": "code",
   "execution_count": null,
   "metadata": {},
   "outputs": [],
   "source": []
  }
 ],
 "metadata": {
  "kernelspec": {
   "display_name": "Python 3.8.11 ('p38')",
   "language": "python",
   "name": "python3"
  },
  "language_info": {
   "codemirror_mode": {
    "name": "ipython",
    "version": 3
   },
   "file_extension": ".py",
   "mimetype": "text/x-python",
   "name": "python",
   "nbconvert_exporter": "python",
   "pygments_lexer": "ipython3",
   "version": "3.8.11"
  },
  "orig_nbformat": 4,
  "vscode": {
   "interpreter": {
    "hash": "a74561e4511297f4c7e93c6d84c3959236af44066f51447671f7e7a216f28b9f"
   }
  }
 },
 "nbformat": 4,
 "nbformat_minor": 2
}
